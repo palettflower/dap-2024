{
  "cells": [
    {
      "cell_type": "markdown",
      "metadata": {
        "id": "view-in-github",
        "colab_type": "text"
      },
      "source": [
        "<a href=\"https://colab.research.google.com/github/palettflower/dap-2024/blob/main/les03/rep.ipynb\" target=\"_parent\"><img src=\"https://colab.research.google.com/assets/colab-badge.svg\" alt=\"Open In Colab\"/></a>"
      ]
    },
    {
      "cell_type": "markdown",
      "metadata": {
        "id": "qQvfD-M40xIt"
      },
      "source": [
        "# Лабораторная работа №3. NumPy"
      ]
    },
    {
      "cell_type": "markdown",
      "metadata": {
        "id": "WM9-2ALWwNNL"
      },
      "source": [
        "## Задание"
      ]
    },
    {
      "cell_type": "markdown",
      "metadata": {
        "id": "Q8FFEA2R08uS"
      },
      "source": [
        "Выполните следующие задания:\n",
        "\n",
        "1. Откройте в файл в Google Colab (используйте собственный форк репозитория).\n",
        "2. Решите задачи.\n",
        "3. Сохраните результат в ваш репозиторий github в директорию ./les03\n",
        "4. Создайте pull request в репозиторий https://github.com/chebotarevsa/dap-2024. Название pull request должно иметь формат \"<3>  <12002209> <Алимова Полина Игоревна>\"\n",
        "5. Сдайте работу в системе \"Пегас\", в отчет укажите ссылку на pull request"
      ]
    },
    {
      "cell_type": "code",
      "execution_count": null,
      "metadata": {
        "colab": {
          "base_uri": "https://localhost:8080/",
          "height": 35
        },
        "id": "3ftbuMN45IlN",
        "outputId": "a202a579-7cba-405d-995b-9387cd4738a1"
      },
      "outputs": [
        {
          "data": {
            "text/plain": [
              "'2.1.0'"
            ]
          },
          "execution_count": 1,
          "metadata": {},
          "output_type": "execute_result"
        }
      ],
      "source": [
        "import numpy as np\n",
        "np.version.version"
      ]
    },
    {
      "cell_type": "markdown",
      "metadata": {
        "id": "6iPL4gTu2ECp"
      },
      "source": [
        "1. Создать массив 10x10 со случайными значениями, найти минимум и максимум (низкая)"
      ]
    },
    {
      "cell_type": "code",
      "execution_count": null,
      "metadata": {
        "id": "v-AutHvo2T-D",
        "outputId": "3c7c5495-4976-44a4-d6b8-d4e714f65a26",
        "colab": {
          "base_uri": "https://localhost:8080/"
        }
      },
      "outputs": [
        {
          "output_type": "stream",
          "name": "stdout",
          "text": [
            "[[-12  32  26  43 -22   3 -47  46  27 -32]\n",
            " [ 12 -23  41 -48 -28  43  47 -37 -34  47]\n",
            " [ 47  -5   9 -37 -27  17 -14 -22   6 -15]\n",
            " [-30   6  16 -19  38 -38 -40 -25  29 -25]\n",
            " [ 33   2  17  42 -19  22  -4  26 -50 -50]\n",
            " [-43   4  20  42 -38 -27  -1 -46 -24   9]\n",
            " [ 10 -49 -12  15 -43  34  26 -19  43 -18]\n",
            " [ 14 -48  24 -24  30 -13 -30 -14   9 -23]\n",
            " [  3  -8  42 -45 -38 -26 -50  -6 -43  36]\n",
            " [ -3  46  41 -37  25  29 -45 -34  20 -36]]\n",
            "-50\n",
            "47\n"
          ]
        }
      ],
      "source": [
        "import numpy as np\n",
        "np.version.version\n",
        "y = np.random.randint(-50, 50, (10, 10))\n",
        "print(y)\n",
        "print(np.min(y))\n",
        "print(np.max(y))"
      ]
    },
    {
      "cell_type": "markdown",
      "metadata": {
        "id": "cwxKoGik2Xfd"
      },
      "source": [
        "2. Создать 8x8 матрицу и заполнить её единицами и нулями в шахматном порядке"
      ]
    },
    {
      "cell_type": "code",
      "execution_count": null,
      "metadata": {
        "id": "zACAjKWC2lBy",
        "outputId": "2437753f-d7fa-413c-ca1f-4b25e75bd3f7",
        "colab": {
          "base_uri": "https://localhost:8080/"
        }
      },
      "outputs": [
        {
          "output_type": "stream",
          "name": "stdout",
          "text": [
            "[[0 1 0 1 0 1 0 1]\n",
            " [1 0 1 0 1 0 1 0]\n",
            " [0 1 0 1 0 1 0 1]\n",
            " [1 0 1 0 1 0 1 0]]\n"
          ]
        }
      ],
      "source": [
        "import numpy as np\n",
        "np.version.version\n",
        "x=np.array([0, 1])\n",
        "y=np.array([1, 0])\n",
        "x=np.concatenate([x,x,x,x])\n",
        "y=np.concatenate([y,y,y,y])\n",
        "x=np.concatenate([[x],[y],[x],[y]])\n",
        "print(x)\n"
      ]
    },
    {
      "cell_type": "markdown",
      "metadata": {
        "id": "YvNFm7Io2tSA"
      },
      "source": [
        "3. Дан массив из 11 элементов, поменять знак у элементов, значения которых между 3 и 8"
      ]
    },
    {
      "cell_type": "code",
      "execution_count": null,
      "metadata": {
        "id": "cczoe3OY27fA",
        "outputId": "8fb1b9ed-8899-44b4-872a-23c862db7268",
        "colab": {
          "base_uri": "https://localhost:8080/"
        }
      },
      "outputs": [
        {
          "output_type": "stream",
          "name": "stdout",
          "text": [
            "[ 0  1  2  3  4  5  6  7  8  9 10]\n",
            "[-3 -4 -5 -6 -7 -8]\n"
          ]
        },
        {
          "output_type": "execute_result",
          "data": {
            "text/plain": [
              "array([ 0,  1,  2, -3, -4, -5, -6, -7, -8,  9, 10])"
            ]
          },
          "metadata": {},
          "execution_count": 29
        }
      ],
      "source": [
        "z = np.arange(11)\n",
        "print(z)\n",
        "x1, x2, x3 = np.split(z, [3, 9])\n",
        "x2=x2*(-1)\n",
        "print(x2)\n",
        "np.concatenate([x1, x2, x3])"
      ]
    },
    {
      "cell_type": "markdown",
      "metadata": {
        "id": "tInYHRPf2-jQ"
      },
      "source": [
        "4. Найти среднее заначение строки матрицы и вычесть его из каждого елемента строки"
      ]
    },
    {
      "cell_type": "code",
      "execution_count": null,
      "metadata": {
        "id": "Zbv_WG9w3km1",
        "outputId": "08136a40-5038-4d0b-98d8-2e266acb9bec",
        "colab": {
          "base_uri": "https://localhost:8080/"
        }
      },
      "outputs": [
        {
          "output_type": "stream",
          "name": "stdout",
          "text": [
            "[[0.81792819 0.07070146 0.35971313 0.16602048 0.03456201 0.65974073\n",
            "  0.55383971 0.1973845  0.91692314 0.30683817]\n",
            " [0.12584059 0.11631506 0.28923903 0.93972773 0.44213019 0.6533617\n",
            "  0.37874244 0.72761328 0.78496958 0.44868403]\n",
            " [0.15489536 0.33562234 0.2982357  0.2710958  0.06278232 0.91486553\n",
            "  0.3244522  0.0883233  0.50836771 0.89351841]\n",
            " [0.79728261 0.83086361 0.39840563 0.13856545 0.5322872  0.07501271\n",
            "  0.52640283 0.70913745 0.88346355 0.25251237]\n",
            " [0.27070985 0.4046678  0.17256603 0.70563862 0.62905234 0.09949503\n",
            "  0.53880242 0.73647033 0.91702463 0.31456749]]\n",
            "[[0.40836515]\n",
            " [0.49066236]\n",
            " [0.38521587]\n",
            " [0.51439334]\n",
            " [0.47889945]]\n",
            "[[ 0.40956304 -0.33766369 -0.04865202 -0.24234467 -0.37380314  0.25137558\n",
            "   0.14547456 -0.21098065  0.50855799 -0.10152698]\n",
            " [-0.36482178 -0.3743473  -0.20142334  0.44906537 -0.04853217  0.16269933\n",
            "  -0.11191992  0.23695091  0.29430722 -0.04197833]\n",
            " [-0.23032051 -0.04959352 -0.08698017 -0.11412007 -0.32243355  0.52964967\n",
            "  -0.06076367 -0.29689257  0.12315184  0.50830254]\n",
            " [ 0.28288927  0.31647027 -0.11598771 -0.37582789  0.01789386 -0.43938063\n",
            "   0.01200949  0.19474411  0.36907021 -0.26188097]\n",
            " [-0.20818961 -0.07423165 -0.30633342  0.22673916  0.15015289 -0.37940442\n",
            "   0.05990297  0.25757087  0.43812518 -0.16433197]]\n"
          ]
        }
      ],
      "source": [
        "z = np.random.rand(5, 10)\n",
        "print(z)\n",
        "s=np.mean(z, axis=1)\n",
        "s=s.reshape(5,1)\n",
        "print(s)\n",
        "print(z-s)"
      ]
    },
    {
      "cell_type": "markdown",
      "metadata": {
        "id": "OStor4mW3lpJ"
      },
      "source": [
        "5. Поменяйте 1 и 2 строки матрицы"
      ]
    },
    {
      "cell_type": "code",
      "execution_count": null,
      "metadata": {
        "id": "5vfeHqyF3qKd",
        "outputId": "a10091a1-1d3d-4808-a033-b318fea6072c",
        "colab": {
          "base_uri": "https://localhost:8080/"
        }
      },
      "outputs": [
        {
          "output_type": "stream",
          "name": "stdout",
          "text": [
            "[[ 0  1  2  3  4]\n",
            " [ 5  6  7  8  9]\n",
            " [10 11 12 13 14]\n",
            " [15 16 17 18 19]\n",
            " [20 21 22 23 24]]\n",
            "[[0 1 2 3 4]] [[5 6 7 8 9]] [[10 11 12 13 14]\n",
            " [15 16 17 18 19]\n",
            " [20 21 22 23 24]]\n"
          ]
        }
      ],
      "source": [
        "z = np.arange(25).reshape(5,5)\n",
        "x1, x2, x3 = np.split(z, [1,2])\n",
        "print(z)\n",
        "print(x1,x2,x3)\n",
        "np.concatenate([x2, x1, x3])"
      ]
    },
    {
      "cell_type": "markdown",
      "metadata": {
        "id": "IPQ9xIIk3qml"
      },
      "source": [
        "6. Дан массив 10x2 подеставлющий собой точки в декартовой системе координат, преобразовать в полярную"
      ]
    },
    {
      "cell_type": "code",
      "execution_count": null,
      "metadata": {
        "id": "zGHBaX8b30Uv",
        "outputId": "7d200b67-a1fd-4d03-94fe-2cc8743388a2",
        "colab": {
          "base_uri": "https://localhost:8080/"
        }
      },
      "outputs": [
        {
          "output_type": "stream",
          "name": "stdout",
          "text": [
            "[[0.77824455 0.91750605]\n",
            " [0.67275291 0.76902188]\n",
            " [0.8921606  0.02788715]\n",
            " [0.58421999 0.79551479]\n",
            " [0.96135206 0.1079664 ]\n",
            " [0.03312288 0.15003087]\n",
            " [0.70892686 0.26483989]\n",
            " [0.003175   0.75245866]\n",
            " [0.15266841 0.02924108]\n",
            " [0.0372035  0.60732845]]\n",
            "[[0.77824455]\n",
            " [0.67275291]\n",
            " [0.8921606 ]\n",
            " [0.58421999]\n",
            " [0.96135206]\n",
            " [0.03312288]\n",
            " [0.70892686]\n",
            " [0.003175  ]\n",
            " [0.15266841]\n",
            " [0.0372035 ]] [[0.91750605]\n",
            " [0.76902188]\n",
            " [0.02788715]\n",
            " [0.79551479]\n",
            " [0.1079664 ]\n",
            " [0.15003087]\n",
            " [0.26483989]\n",
            " [0.75245866]\n",
            " [0.02924108]\n",
            " [0.60732845]]\n",
            "[[1.20311343]\n",
            " [1.02175884]\n",
            " [0.89259634]\n",
            " [0.9869938 ]\n",
            " [0.96739575]\n",
            " [0.1536437 ]\n",
            " [0.75678099]\n",
            " [0.75246536]\n",
            " [0.15544351]\n",
            " [0.60846689]]\n",
            "[[0.86733809]\n",
            " [0.85207036]\n",
            " [0.03124782]\n",
            " [0.93735916]\n",
            " [0.1118382 ]\n",
            " [1.35350811]\n",
            " [0.35752391]\n",
            " [1.56657685]\n",
            " [0.18924136]\n",
            " [1.50961514]]\n"
          ]
        },
        {
          "output_type": "execute_result",
          "data": {
            "text/plain": [
              "array([[0.77824455, 0.91750605],\n",
              "       [0.67275291, 0.76902188],\n",
              "       [0.8921606 , 0.02788715],\n",
              "       [0.58421999, 0.79551479],\n",
              "       [0.96135206, 0.1079664 ],\n",
              "       [0.03312288, 0.15003087],\n",
              "       [0.70892686, 0.26483989],\n",
              "       [0.003175  , 0.75245866],\n",
              "       [0.15266841, 0.02924108],\n",
              "       [0.0372035 , 0.60732845]])"
            ]
          },
          "metadata": {},
          "execution_count": 124
        }
      ],
      "source": [
        "z = np.random.random((10,2))\n",
        "print(z)\n",
        "x, y = np.split(z, [1], axis=1)\n",
        "print(x, y)\n",
        "r=np.sqrt(pow(x,2)+pow(y,2))\n",
        "tg=np.arctan(y/x)\n",
        "print(r)\n",
        "print(tg)\n",
        "np.concatenate([x,y], axis=1)"
      ]
    },
    {
      "cell_type": "markdown",
      "metadata": {
        "id": "10gbuTgE4AOH"
      },
      "source": [
        "7. Заменить максимальный элемент массива на ноль"
      ]
    },
    {
      "cell_type": "code",
      "execution_count": null,
      "metadata": {
        "id": "gqwuO2T_5Aqd",
        "outputId": "f11dc38a-7311-4337-f10e-4a1193067b21",
        "colab": {
          "base_uri": "https://localhost:8080/"
        }
      },
      "outputs": [
        {
          "output_type": "stream",
          "name": "stdout",
          "text": [
            "0.7719255998561364\n",
            "[0.71554859 0.59888261 0.0276388  0.39076648 0.65095457 0.05202571\n",
            " 0.42533704 0.5505143  0.         0.54546619]\n",
            "0.5988826062995998\n"
          ]
        }
      ],
      "source": [
        "z = np.random.random(10)\n",
        "x=np.max(z)\n",
        "print(x)\n",
        "z==x\n",
        "z[z==x]=0\n",
        "print(z)"
      ]
    },
    {
      "cell_type": "markdown",
      "metadata": {
        "id": "88m_eWXM6nZY"
      },
      "source": [
        "8. Дан массив, добавить 1 к каждому элементу с индексом, заданным в другом массиве. Добавление производиться только 1 раз"
      ]
    },
    {
      "cell_type": "code",
      "execution_count": null,
      "metadata": {
        "id": "-5yj9k126pfh",
        "outputId": "622e79ff-f6fa-4d34-e510-6b4371a10ad0",
        "colab": {
          "base_uri": "https://localhost:8080/"
        }
      },
      "outputs": [
        {
          "output_type": "stream",
          "name": "stdout",
          "text": [
            "[1. 1. 1. 1. 1. 1. 1. 1. 1. 1.] [3 3 9 2 4]\n",
            "[2 3 4 9]\n",
            "[1. 1. 2. 2. 2. 1. 1. 1. 1. 2.]\n"
          ]
        }
      ],
      "source": [
        "z = np.ones(10)\n",
        "i = np.random.randint(0,len(z),5)\n",
        "print(z,i)\n",
        "i=np.unique(i)\n",
        "print(i)\n",
        "z[i]=1+z[i]\n",
        "print(z)\n",
        "# Напишите ваш код здесь"
      ]
    },
    {
      "cell_type": "markdown",
      "metadata": {
        "id": "0HByAVK77JCG"
      },
      "source": [
        "9. Дан вектор [1, 2, 3, 4, 5], построить новый вектор с тремя нулями между каждым значением"
      ]
    },
    {
      "cell_type": "code",
      "execution_count": null,
      "metadata": {
        "id": "2AiZt-J47dqq",
        "outputId": "31854ebb-a0bd-446e-94ec-7a724c0fa43c",
        "colab": {
          "base_uri": "https://localhost:8080/"
        }
      },
      "outputs": [
        {
          "output_type": "stream",
          "name": "stdout",
          "text": [
            "[1 2 3 4 5]\n",
            "[1. 0. 0. 0. 2. 0. 0. 0. 3. 0. 0. 0. 4. 0. 0. 0. 5. 0. 0. 0.]\n"
          ]
        }
      ],
      "source": [
        "z = np.array([1,2,3,4,5])\n",
        "print(z)\n",
        "x=np.zeros(len(z)*4)\n",
        "x[::4]=z\n",
        "\n",
        "print(x)\n",
        "# Напишите ваш код здесь"
      ]
    },
    {
      "cell_type": "markdown",
      "metadata": {
        "id": "i0uK-dO08AKP"
      },
      "source": [
        "10. Найти ближайшее к заданному значению число в заданном массиве"
      ]
    },
    {
      "cell_type": "code",
      "execution_count": null,
      "metadata": {
        "id": "sE0DlZO_-4Cb",
        "outputId": "c18df890-34e2-406e-81d9-6d79da2e6c0f",
        "colab": {
          "base_uri": "https://localhost:8080/"
        }
      },
      "outputs": [
        {
          "output_type": "stream",
          "name": "stdout",
          "text": [
            "[ 0  1  2  3  4  5  6  7  8  9 10 11 12 13 14 15 16 17 18 19 20 21 22 23\n",
            " 24 25 26 27 28 29 30 31 32 33 34 35 36 37 38 39 40 41 42 43 44 45 46 47\n",
            " 48 49 50 51 52 53 54 55 56 57 58 59 60 61 62 63 64 65 66 67 68 69 70 71\n",
            " 72 73 74 75 76 77 78 79 80 81 82 83 84 85 86 87 88 89 90 91 92 93 94 95\n",
            " 96 97 98 99]\n",
            "67.4503935026881\n",
            "[67.4503935 66.4503935 65.4503935 64.4503935 63.4503935 62.4503935\n",
            " 61.4503935 60.4503935 59.4503935 58.4503935 57.4503935 56.4503935\n",
            " 55.4503935 54.4503935 53.4503935 52.4503935 51.4503935 50.4503935\n",
            " 49.4503935 48.4503935 47.4503935 46.4503935 45.4503935 44.4503935\n",
            " 43.4503935 42.4503935 41.4503935 40.4503935 39.4503935 38.4503935\n",
            " 37.4503935 36.4503935 35.4503935 34.4503935 33.4503935 32.4503935\n",
            " 31.4503935 30.4503935 29.4503935 28.4503935 27.4503935 26.4503935\n",
            " 25.4503935 24.4503935 23.4503935 22.4503935 21.4503935 20.4503935\n",
            " 19.4503935 18.4503935 17.4503935 16.4503935 15.4503935 14.4503935\n",
            " 13.4503935 12.4503935 11.4503935 10.4503935  9.4503935  8.4503935\n",
            "  7.4503935  6.4503935  5.4503935  4.4503935  3.4503935  2.4503935\n",
            "  1.4503935  0.4503935  0.5496065  1.5496065  2.5496065  3.5496065\n",
            "  4.5496065  5.5496065  6.5496065  7.5496065  8.5496065  9.5496065\n",
            " 10.5496065 11.5496065 12.5496065 13.5496065 14.5496065 15.5496065\n",
            " 16.5496065 17.5496065 18.5496065 19.5496065 20.5496065 21.5496065\n",
            " 22.5496065 23.5496065 24.5496065 25.5496065 26.5496065 27.5496065\n",
            " 28.5496065 29.5496065 30.5496065 31.5496065]\n",
            "[67]\n"
          ]
        }
      ],
      "source": [
        "z = np.arange(100) # Число\n",
        "v = np.random.uniform(0,100) # Массив\n",
        "print(z)\n",
        "print(v)\n",
        "s=z-v\n",
        "print(np.abs(s))\n",
        "s=np.abs(s)<0.5\n",
        "print(z[s])\n"
      ]
    },
    {
      "cell_type": "markdown",
      "metadata": {
        "id": "0zUpsgh8uCfQ"
      },
      "source": [
        "## Вопросы\n",
        "\n",
        "\n"
      ]
    },
    {
      "cell_type": "markdown",
      "metadata": {
        "id": "RQEMkoq5vc3k"
      },
      "source": [
        "**1**. Какой тип (dtype) будут иметь элементы массива?\n",
        "``` python\n",
        "np.array([1, 4, 2, 5, 3])\n",
        "np.array([1., 4, 2, 5, 3])\n",
        "np.array([1, 4, 2, 5, 3], dtype='float128')\n",
        "np.array([1., 4, 2, 5, 3], dtype='complex128')\n",
        "np.array([1, 4, 2, 5, 3], dtype ='float64')\n",
        "np.array([1, 4, 2, 5, 3], dtype =int64)\n",
        "np.array([1, 4, 2, 5, 3], dtype='bool')\n",
        "np.array([1, 4, 2, 5, 3], dtype='str')\n",
        "np.array([1, 4, 2, 5, '3'])\n",
        "np.array([1, -4, 2, 0, 1j])\n",
        "```"
      ]
    },
    {
      "cell_type": "markdown",
      "metadata": {
        "id": "SlJfe4Bgvd16"
      },
      "source": [
        "**2**. Что будет выведено в консоль и почему?\n",
        "``` python\n",
        "np.array([1, 4, 2, 5, 3], dtype='str')[1] + '1'\n",
        "np.array([1, -4, 2, 0, 3], dtype='bool')[3] or np.array([1, -4, 2, 0, 3])[1]\n",
        "np.array([1, -4, 2, 0, 3], dtype='bool')[3] and np.array([1, -4, 2, 0, 3])[1]\n",
        "np.array([1, -4, 2, 0, True], dtype='int64')[-1]\n",
        "np.array([1, -4, 2, 0, 1j], dtype='int64')[1]\n",
        "np.array([1, -4, 2, 0, 1j], dtype='str')[-1]\n",
        "np.array([1, 4, 2, 5, '3'])[-1] * 3\n",
        "```"
      ]
    },
    {
      "cell_type": "markdown",
      "metadata": {
        "id": "X50PESx7xVAc"
      },
      "source": [
        "**3**. Каков результат операции?\n",
        "\n",
        "``` python\n",
        "np.ones((3, 5), dtype=float)\n",
        "np.full((3, 5), 3.14)\n",
        "np.linspace(0, 1, 5)\n",
        "np.diag((1,3,5))\n",
        "np.smile((1,3,5))\n",
        "np.random.random((3, 3))\n",
        "np.eye(3)\n",
        "np.empty(3)\n",
        "```\n",
        "\n"
      ]
    },
    {
      "cell_type": "markdown",
      "metadata": {
        "id": "D6Bt-8cfAWrA"
      },
      "source": [
        "**4**. Дан двумерный массив X, что будет выведено в консоль?\n",
        "\n",
        "``` python\n",
        "X = np.array([[3, 5, 2, 4],\n",
        "      [7, 6, 8, 8],\n",
        "      [1, 6, 7, 7]])\n",
        "```\n",
        "\n",
        "``` python\n",
        "X[0,0]\n",
        "X[-1,-1]\n",
        "X[0:1,-1]\n",
        "X[0:2,-1]\n",
        "X[0:2,0:2]\n",
        "X[1,1:3]\n",
        "X[1,:]\n",
        "X[1,:]\n",
        "X[:,:]\n",
        "X[:]\n",
        "X[::2,::2]\n",
        "X[0:3:2,0:3:2]\n",
        "X[::-1,::-1]\n",
        "```"
      ]
    },
    {
      "cell_type": "markdown",
      "metadata": {
        "id": "2-zUr50NwNN9"
      },
      "source": [
        "**5**. Дан двумерный массив grid, в чем различее между операциями?\n",
        "\n",
        "\n",
        "``` python\n",
        "grid = np.arange(16).reshape((4, 4))\n",
        "```\n",
        "\n",
        "``` python\n",
        "np.split(grid, [2])\n",
        "np.split(grid, [2], axis=1)\n",
        "```\n"
      ]
    },
    {
      "cell_type": "markdown",
      "metadata": {
        "id": "bBevADOGwNN-"
      },
      "source": [
        "**6**. В чем различие между операциями?\n",
        "\n",
        "``` python\n",
        "    [1, 2, 3] + [3, 2, 1]\n",
        "    np.array([1, 2, 3]) + np.array([3, 2, 1])\n",
        "```"
      ]
    },
    {
      "cell_type": "markdown",
      "metadata": {
        "id": "gxlOLMkRwNN-"
      },
      "source": [
        "**7**. Как в CodeLab измерить время выполнения кода?"
      ]
    },
    {
      "cell_type": "markdown",
      "metadata": {
        "id": "U0WN22EHwNN_"
      },
      "source": [
        "**8**. Дан массив X, каковы результаты операций?\n",
        "\n",
        "```python\n",
        "X = np.array([[3, 5, 2, 4],\n",
        "      [7, 6, 8, 8],\n",
        "      [1, 6, 7, 7]])\n",
        "\n",
        "np.sum(M)\n",
        "np.sum(M, axis=1)\n",
        "np.sum(M, axis=0)\n",
        "np.sum(M, axis=2)\n",
        "np.sum(M, 1)\n",
        "sum(M)\n",
        "sum(M,1)\n",
        "```"
      ]
    },
    {
      "cell_type": "markdown",
      "metadata": {
        "id": "nOAgdN-SwNOA"
      },
      "source": [
        "**9**. Дан массив X, что будет выведено в консоль?\n",
        "\n",
        "```python\n",
        "X = np.array([1,2,3,4])\n",
        "\n",
        "X > 3\n",
        "X < 3\n",
        "X[X < 3]\n",
        "X[X > 3]\n",
        "X[X != 3]\n",
        "```"
      ]
    },
    {
      "cell_type": "markdown",
      "metadata": {
        "id": "gTZmO17BwNOB"
      },
      "source": [
        "**10**.  В чем преимущество массивов NumPy по сравнению с обычными списками.  Чем обусловлено это преимущество?"
      ]
    }
  ],
  "metadata": {
    "colab": {
      "provenance": [],
      "include_colab_link": true
    },
    "kernelspec": {
      "display_name": "Python 3",
      "name": "python3"
    },
    "language_info": {
      "codemirror_mode": {
        "name": "ipython",
        "version": 3
      },
      "file_extension": ".py",
      "mimetype": "text/x-python",
      "name": "python",
      "nbconvert_exporter": "python",
      "pygments_lexer": "ipython3",
      "version": "3.12.2"
    }
  },
  "nbformat": 4,
  "nbformat_minor": 0
}