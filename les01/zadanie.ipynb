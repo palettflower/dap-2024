{
  "nbformat": 4,
  "nbformat_minor": 0,
  "metadata": {
    "colab": {
      "provenance": [],
      "authorship_tag": "ABX9TyMFZIhD72OzKzK0froVJHID",
      "include_colab_link": true
    },
    "kernelspec": {
      "name": "python3",
      "display_name": "Python 3"
    },
    "language_info": {
      "name": "python"
    }
  },
  "cells": [
    {
      "cell_type": "markdown",
      "metadata": {
        "id": "view-in-github",
        "colab_type": "text"
      },
      "source": [
        "<a href=\"https://colab.research.google.com/github/palettflower/dap-2024/blob/main/les01/zadanie.ipynb\" target=\"_parent\"><img src=\"https://colab.research.google.com/assets/colab-badge.svg\" alt=\"Open In Colab\"/></a>"
      ]
    },
    {
      "cell_type": "code",
      "execution_count": 2,
      "metadata": {
        "colab": {
          "base_uri": "https://localhost:8080/"
        },
        "id": "b7ETvhv41T66",
        "outputId": "1eef0c5e-6816-4f2d-8baa-8a0bd1cdef89"
      },
      "outputs": [
        {
          "output_type": "stream",
          "name": "stdout",
          "text": [
            "[[0. 1.]\n",
            " [1. 0.]]\n"
          ]
        }
      ],
      "source": [
        "import numpy as np\n",
        "\n",
        "# исходная матрица\n",
        "x = np.array([[0, 1], [1, 0]])\n",
        "\n",
        "# количество строк и столбцов\n",
        "n_rows, n_cols = x.shape\n",
        "\n",
        "# создаем пустую матрицу для результата\n",
        "result = np.zeros((n_rows, n_cols))\n",
        "\n",
        "# переставляем строки и столбцы в обратном шахматном порядке\n",
        "for i in range(n_rows):\n",
        "    for j in range(n_cols):\n",
        "        result[i, j] = x[(n_rows - 1 - i) % n_rows, (n_cols - 1 - j) % n_cols]\n",
        "\n",
        "# выводим результат\n",
        "print(result)"
      ]
    },
    {
      "cell_type": "code",
      "source": [
        "import numpy as np\n",
        "\n",
        "# Заданный двумерный массив\n",
        "arr = [\n",
        "[12, 45, 67, 23, 89, 34, 56, 78, 90, 11],\n",
        "[34, 56, 78, 89, 12, 23, 45, 67, 90, 34],\n",
        "[78, 90, 12, 34, 56, 78, 89, 11, 45, 67],\n",
        "[45, 67, 89, 12, 34, 56, 78, 90, 11, 23],\n",
        "[11, 23, 45, 67, 89, 12, 34, 56, 78, 90],\n",
        "[56, 78, 90, 11, 23, 45, 67, 89, 12, 34],\n",
        "[89, 12, 34, 56, 78, 90, 11, 23, 45, 67],\n",
        "[23, 45, 67, 89, 12, 34, 56, 78, 90, 11],\n",
        "[67, 89, 11, 23, 45, 67, 89, 12, 34, 56],\n",
        "[90, 11, 23, 45, 67, 89, 12, 34, 56, 78]\n",
        "]\n",
        "\n",
        "# Преобразование двумерного массива в одномерный\n",
        "arr_1d = np.array(arr).flatten()\n",
        "\n",
        "# Расчет дисперсии, медианы и среднего квадратичного отклонения\n",
        "disp = np.var(arr_1d)\n",
        "median = np.median(arr_1d)\n",
        "std_dev = np.std(arr_1d)\n",
        "\n",
        "# Результаты округлены до двух знаков после запятой\n",
        "print(f'Дисперсия: {round(disp, 2)}')\n",
        "print(f'Медиана: {round(median, 2)}')\n",
        "print(f'Среднее квадратичное отклонение: {round(std_dev, 2)}')"
      ],
      "metadata": {
        "colab": {
          "base_uri": "https://localhost:8080/"
        },
        "id": "bezyPM_T1Ulo",
        "outputId": "65d19feb-f343-4b40-cd35-48351c0167d2"
      },
      "execution_count": 1,
      "outputs": [
        {
          "output_type": "stream",
          "name": "stdout",
          "text": [
            "Дисперсия: 801.31\n",
            "Медиана: 56.0\n",
            "Среднее квадратичное отклонение: 28.31\n"
          ]
        }
      ]
    }
  ]
}