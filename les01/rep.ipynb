{
  "nbformat": 4,
  "nbformat_minor": 0,
  "metadata": {
    "colab": {
      "provenance": [],
      "authorship_tag": "ABX9TyO2okHtoo2yzOD3AEMN5wjr",
      "include_colab_link": true
    },
    "kernelspec": {
      "name": "python3",
      "display_name": "Python 3"
    },
    "language_info": {
      "name": "python"
    }
  },
  "cells": [
    {
      "cell_type": "markdown",
      "metadata": {
        "id": "view-in-github",
        "colab_type": "text"
      },
      "source": [
        "<a href=\"https://colab.research.google.com/github/palettflower/dap-2024/blob/main/les01/rep.ipynb\" target=\"_parent\"><img src=\"https://colab.research.google.com/assets/colab-badge.svg\" alt=\"Open In Colab\"/></a>"
      ]
    },
    {
      "cell_type": "code",
      "execution_count": null,
      "metadata": {
        "id": "oDnFB8p4NA7w"
      },
      "outputs": [],
      "source": []
    },
    {
      "cell_type": "markdown",
      "source": [
        "# Лабораторная работа 1\n",
        "Была создана учетная запись в GitHub\n",
        "\n",
        "Был выполнен форк репозитория преподавателя\n",
        "\n",
        "Связали учетные записи Google и Github\n",
        "\n",
        "Был создан отчет в Google Colab с разметкой Markdown :\n",
        "\n",
        "\n",
        "c значками ~зачеркнутый~, ***жирный курсив*** и так далее\n",
        "\n",
        "\n",
        "*   списки,\n",
        "*   c значками ~зачеркнутый~, ***жирный курсив*** и так далее\n",
        "\n",
        "\n",
        "Отчет был сохранен в директории ./les01\n",
        "Был создан pull request с форматом <Лабораторная работа 1> <12002209> <Алимова Полина Игоревна>\n",
        "В пегасе указана ссылка на pull request"
      ],
      "metadata": {
        "id": "Df6YKwrgZhtH"
      }
    }
  ]
}