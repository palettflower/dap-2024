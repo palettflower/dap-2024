{
  "cells": [
    {
      "cell_type": "markdown",
      "metadata": {
        "id": "view-in-github",
        "colab_type": "text"
      },
      "source": [
        "<a href=\"https://colab.research.google.com/github/palettflower/dap-2024/blob/main/les02/rep.ipynb\" target=\"_parent\"><img src=\"https://colab.research.google.com/assets/colab-badge.svg\" alt=\"Open In Colab\"/></a>"
      ]
    },
    {
      "cell_type": "markdown",
      "metadata": {
        "id": "MmqF9mUJa7s3"
      },
      "source": [
        "# Лабораторная работа №2. Основы Python"
      ]
    },
    {
      "cell_type": "code",
      "source": [],
      "metadata": {
        "id": "RdQj0x8mfd83"
      },
      "execution_count": null,
      "outputs": []
    },
    {
      "cell_type": "markdown",
      "metadata": {
        "id": "RtnqO3CDa7s9"
      },
      "source": [
        "## Задание"
      ]
    },
    {
      "cell_type": "markdown",
      "metadata": {
        "id": "AUg4GVWUa7s-"
      },
      "source": [
        "Выполните следующие задания:\n",
        "\n",
        "1. Откройте в файл в Google Colab (используйте собственный форк репозитория).\n",
        "2. Решите задачи.\n",
        "3. Сохраните результат в ваш репозиторий github в директорию ./les02\n",
        "4. Создайте pull request в репозиторий https://github.com/chebotarevsa/dap-2024. Название pull request должно иметь формат \"<2>  <12002209> <Алимова Полина Игоревна>\"\n",
        "5. Сдайте работу в системе \"Пегас\", в отчет укажите ссылку на pull request"
      ]
    },
    {
      "cell_type": "markdown",
      "metadata": {
        "id": "BxMK3iS1a7tB"
      },
      "source": [
        "Задача №1. https://leetcode.com/problems/two-sum/"
      ]
    },
    {
      "cell_type": "code",
      "execution_count": null,
      "metadata": {
        "colab": {
          "base_uri": "https://localhost:8080/"
        },
        "id": "UcHtBo3Ca7tC",
        "outputId": "5c3a18ad-cb14-43de-b971-7ceba9fca4dd"
      },
      "outputs": [
        {
          "output_type": "stream",
          "name": "stdout",
          "text": [
            "[1, 2]\n"
          ]
        }
      ],
      "source": [
        "class Solution(object):\n",
        "    def twoSum(self, nums, target):\n",
        "        for x in range(0, len(nums)):\n",
        "            for y in range(1, len(nums)):\n",
        "                if nums[x]+nums[y]==target:\n",
        "                    return [x,y]\n",
        "        return \"\"\n",
        "\n",
        "nums=[4, 5, 1, 8]\n",
        "target=6\n",
        "myclass=Solution()\n",
        "print(myclass.twoSum(nums,target))"
      ]
    },
    {
      "cell_type": "markdown",
      "metadata": {
        "id": "pU5gCd3Xa7tF"
      },
      "source": [
        "Задача №2. https://leetcode.com/problems/palindrome-number/description/"
      ]
    },
    {
      "cell_type": "code",
      "execution_count": null,
      "metadata": {
        "colab": {
          "base_uri": "https://localhost:8080/"
        },
        "id": "Qycvp3Aaa7tG",
        "outputId": "482813c1-a991-47ff-fa05-81cc86e55a51"
      },
      "outputs": [
        {
          "output_type": "stream",
          "name": "stdout",
          "text": [
            "True\n",
            "False\n"
          ]
        }
      ],
      "source": [
        "class Solution2(object):\n",
        "    def isPalindrome(self, x):\n",
        "      i=x\n",
        "      x1 = x % 10\n",
        "      x2 = x1\n",
        "      x = x // 10\n",
        "      while x > 0:\n",
        "        x1 = x % 10\n",
        "        x = x // 10\n",
        "        x2 = x2 * 10\n",
        "        x2 =x2 + x1\n",
        "      if i==x2:\n",
        "        return True\n",
        "      return False\n",
        "\n",
        "x=1661\n",
        "y=45\n",
        "myclass=Solution2()\n",
        "print(myclass.isPalindrome(x))\n",
        "print(myclass.isPalindrome(y))"
      ]
    },
    {
      "cell_type": "markdown",
      "metadata": {
        "id": "Hlsmq6GKa7tH"
      },
      "source": [
        "Задача №3. https://leetcode.com/problems/roman-to-integer/description/"
      ]
    },
    {
      "cell_type": "code",
      "execution_count": null,
      "metadata": {
        "colab": {
          "base_uri": "https://localhost:8080/"
        },
        "id": "bWgYOvOda7tI",
        "outputId": "1ae8bf12-d859-4893-c8d8-9e5dacfe4e5d"
      },
      "outputs": [
        {
          "output_type": "stream",
          "name": "stdout",
          "text": [
            "i  len 0    3\n",
            "rtype+key[s[i]] 0 + 1\n",
            "i  len 1    3\n",
            "rtype+key[s[i]] 1 + 1\n",
            "i  len 2    3\n",
            "rtype+key[s[i]] 2 + 1\n",
            "3\n",
            "3\n"
          ]
        }
      ],
      "source": [
        "class Solution3(object):\n",
        "    def romanToInt(self, s):\n",
        "      key = { \"I\":1, \"V\":5, \"X\":10, \"L\":50, \"C\":100, \"D\":500, \"M\":1000}\n",
        "      i=0\n",
        "      rtype=0\n",
        "      while i<len(s):\n",
        "        print(\"i  len\",i,\"  \",len(s))\n",
        "        if i==len(s)-1 or key[s[i]]>=key[s[i+1]]:\n",
        "          print(\"rtype+key[s[i]]\",rtype,\"+\",key[s[i]])\n",
        "          rtype=rtype+key[s[i]]\n",
        "          i=i+1\n",
        "        else:\n",
        "          print(\"rtype+key[s[i+1]]key[s[i]]-\",rtype,\"+\",key[s[i]])\n",
        "          rtype=rtype+key[s[i+1]]-key[s[i]]\n",
        "          i=i+2\n",
        "      return rtype\n",
        "\n",
        "s=\"III\"\n",
        "myclass=Solution3()\n",
        "print(myclass.romanToInt(s))\n",
        "        # Ваше решение"
      ]
    },
    {
      "cell_type": "markdown",
      "metadata": {
        "id": "NIyYN7Aya7tI"
      },
      "source": [
        "Задача №4. https://leetcode.com/problems/longest-common-prefix/description/"
      ]
    },
    {
      "cell_type": "code",
      "execution_count": null,
      "metadata": {
        "colab": {
          "base_uri": "https://localhost:8080/"
        },
        "id": "WMijETGLa7tJ",
        "outputId": "fef5fefc-bc59-49a1-aa66-0e0694206e46"
      },
      "outputs": [
        {
          "output_type": "stream",
          "name": "stdout",
          "text": [
            "['по']\n"
          ]
        }
      ],
      "source": [
        "class Solution4(object):\n",
        "    def longestCommonPrefix(self, strs):\n",
        "      lon=len(strs[0])\n",
        "      for x in range(1, len(strs)):\n",
        "        if len(strs[x])<lon:\n",
        "          lon=len(strs[x])\n",
        "      s3=[]\n",
        "      for x in range(1, lon+1):\n",
        "        w=[]\n",
        "        s1=set()\n",
        "        s2=set()\n",
        "        for y in range(0, len(strs)):\n",
        "          s=strs[y]\n",
        "          w.append(s[0:x])\n",
        "          s1.add(w[y])\n",
        "          if len(s1)<y-len(s2)+1:\n",
        "            s2.add(w[y])\n",
        "        if len(s2)==0:  return s3\n",
        "        s3=list(s2)\n",
        "      return \"нет\"\n",
        "\n",
        "strs=[\"цветок\",\"поток\",\"полет\", \"экран\", \"цена\"]\n",
        "myclass=Solution4()\n",
        "print(myclass.longestCommonPrefix(strs))\n"
      ]
    },
    {
      "cell_type": "markdown",
      "metadata": {
        "id": "RdyY30HSa7tK"
      },
      "source": [
        "Задача №5. https://leetcode.com/problems/merge-two-sorted-lists/description/"
      ]
    },
    {
      "cell_type": "code",
      "execution_count": null,
      "metadata": {
        "colab": {
          "base_uri": "https://localhost:8080/"
        },
        "id": "DdRBb84Sa7tL",
        "outputId": "2ab3fafb-d22c-4c43-eb7c-aea4832e9537"
      },
      "outputs": [
        {
          "output_type": "stream",
          "name": "stdout",
          "text": [
            "{1, 2, 3, 4, 6, 8, 106, 10, 112, 120}\n",
            "[1, 2, 3, 4, 6, 8, 10, 106, 112, 120]\n"
          ]
        }
      ],
      "source": [
        "class Solution5(object):\n",
        "    def mergeTwoLists(self, list1, list2):\n",
        "      set3=[]\n",
        "      if len(list1)>len(list2):\n",
        "        small=list2\n",
        "        big=list1\n",
        "      else:\n",
        "        small=list1\n",
        "        big=list2\n",
        "      i=0\n",
        "\n",
        "      for x in range(0,len(big)):\n",
        "        if big[x]==small[i]:\n",
        "          set3.append(big[x])\n",
        "        else:\n",
        "            if big[x]<small[i]:\n",
        "              set3.append(big[x])\n",
        "              if (i<len(small)-1) or x==len(big)-1:\n",
        "                set3.append(small[i])\n",
        "            if big[x]>small[i]:\n",
        "               set3.append(small[i])\n",
        "               set3.append(big[i])\n",
        "        if i!=len(small)-1:\n",
        "          i=i+1\n",
        "      set1=set(list1)\n",
        "      set2=set(list2)\n",
        "      print(set1.union(set2))\n",
        "      return set3\n",
        "\n",
        "list1=[1,2,4,8,10,106,112]\n",
        "list2=[1,3,4,6,120]\n",
        "myclass=Solution5()\n",
        "print(myclass.mergeTwoLists(list1, list2))\n",
        "\n",
        "        # Ваше решение\n"
      ]
    },
    {
      "cell_type": "markdown",
      "metadata": {
        "id": "JKaUgZXna7tM"
      },
      "source": [
        "Задача №6. https://leetcode.com/problems/longest-substring-without-repeating-characters/description/"
      ]
    },
    {
      "cell_type": "code",
      "execution_count": null,
      "metadata": {
        "id": "iyIhLErNa7tM",
        "colab": {
          "base_uri": "https://localhost:8080/"
        },
        "outputId": "2bc73b9a-ff7a-4201-d6d8-d3d549fe2ba4"
      },
      "outputs": [
        {
          "output_type": "stream",
          "name": "stdout",
          "text": [
            "wke\n"
          ]
        }
      ],
      "source": [
        "class Solution(object):\n",
        "    def lengthOfLongestSubstring(self, s):\n",
        "      set1=set()\n",
        "      set2=set()\n",
        "      set3=\"\"\n",
        "      i=0\n",
        "      str3=\"\"\n",
        "      for x in s:\n",
        "        set1.add(x)\n",
        "        if (len(set1)>len(set2)):\n",
        "          set3=set3+x\n",
        "          set2.add(x)\n",
        "        else:\n",
        "          if (i<len(set3)):\n",
        "            i=len(set3)\n",
        "            str3=set3\n",
        "          set3=x\n",
        "          set1={x}\n",
        "          set2={x}\n",
        "      return str3\n",
        "\n",
        "s =  \"pwwkew\"\n",
        "myclass=Solution()\n",
        "print(myclass.lengthOfLongestSubstring(s))\n",
        "#Я ЭТУ ЗАДАЧУ РЕШИЛА В ТРИ РАЗА БЫСТРЕЕ, ЧЕМ 4 И 5\n",
        "        # Ваше решение"
      ]
    }
  ],
  "metadata": {
    "language_info": {
      "name": "python"
    },
    "colab": {
      "provenance": [],
      "include_colab_link": true
    },
    "kernelspec": {
      "name": "python3",
      "display_name": "Python 3"
    }
  },
  "nbformat": 4,
  "nbformat_minor": 0
}